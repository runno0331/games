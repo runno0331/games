{
 "cells": [
  {
   "cell_type": "code",
   "execution_count": null,
   "metadata": {},
   "outputs": [],
   "source": [
    "import copy\n",
    "import time"
   ]
  },
  {
   "cell_type": "code",
   "execution_count": 100,
   "metadata": {},
   "outputs": [],
   "source": [
    "board = [[-1, -1, -1, -1, -1, -1, -1, -1, -1],\n",
    "         [-1, -1, -1, -1, -1, -1, -1, -1, -1],\n",
    "         [-1, -1, -1, -1, -1, -1, -1, -1, -1],\n",
    "         [-1, -1, -1, -1, -1, -1, -1, -1, -1],\n",
    "         [-1, -1, -1, -1, -1, -1, -1, -1, -1],\n",
    "         [-1, -1, -1, -1, -1, -1, -1, -1, -1],\n",
    "         [-1, -1, -1, -1, -1, -1, -1, -1, -1],\n",
    "         [-1, -1, -1, -1, -1, -1, -1, -1, -1],\n",
    "         [-1, -1, -1, -1, -1, -1, -1, -1, -1]]"
   ]
  },
  {
   "cell_type": "code",
   "execution_count": 154,
   "metadata": {},
   "outputs": [],
   "source": [
    "def print_board(board):\n",
    "    for i in range(9):\n",
    "        print(' ', end='')\n",
    "        for j in  range(9):\n",
    "            if board[i][j] == -1:\n",
    "                print(' ', end=' ')\n",
    "            else:\n",
    "                print(board[i][j], end=' ')\n",
    "            if j == 2 or j == 5:\n",
    "                print('|', end=' ')\n",
    "        print('')\n",
    "        \n",
    "        if i == 2 or i == 5:\n",
    "            print('-------+-------+-------')"
   ]
  },
  {
   "cell_type": "code",
   "execution_count": 165,
   "metadata": {},
   "outputs": [],
   "source": [
    "def check(board, row, col):\n",
    "    flag = [True for i in range(9)]\n",
    "    num_list = []\n",
    "    \n",
    "    if board[row][col] != -1:\n",
    "        return num_list\n",
    "    \n",
    "    for i in range(9):\n",
    "        # check row \n",
    "        if board[row][i] != -1:\n",
    "            flag[board[row][i]-1] = False\n",
    "            \n",
    "        # check col\n",
    "        if board[i][col] != -1:\n",
    "            flag[board[i][col]-1] = False\n",
    "    \n",
    "    # check box\n",
    "    for i in range(3):\n",
    "        for j in range(3):\n",
    "            col_num = col//3*3+i\n",
    "            row_num = row//3*3+j\n",
    "            if board[row_num][col_num] != -1:\n",
    "                flag[board[row_num][col_num]-1] = False\n",
    "    \n",
    "    # convert flag to number list\n",
    "    for i in range(9):\n",
    "        if flag[i]:\n",
    "            num_list.append(i+1)\n",
    "            \n",
    "    return num_list"
   ]
  },
  {
   "cell_type": "code",
   "execution_count": 198,
   "metadata": {},
   "outputs": [],
   "source": [
    "def solve(board, row, col):\n",
    "    # find unfilled square\n",
    "    while col < 9 and board[row][col] != -1:\n",
    "        if row == 8:\n",
    "            row = 0\n",
    "            col += 1\n",
    "        else:\n",
    "            row += 1\n",
    "    \n",
    "    if col == 9:\n",
    "        return board\n",
    "    \n",
    "    else:\n",
    "        num_list = check(board, row, col)\n",
    "        for num in num_list:\n",
    "            board_copy = copy.deepcopy(board)\n",
    "            board_copy[row][col] = num\n",
    "            ans = solve(board_copy, row, col)\n",
    "            if ans != None:\n",
    "                return ans\n",
    "        return None"
   ]
  },
  {
   "cell_type": "code",
   "execution_count": 202,
   "metadata": {},
   "outputs": [
    {
     "data": {
      "text/plain": [
       "False"
      ]
     },
     "execution_count": 202,
     "metadata": {},
     "output_type": "execute_result"
    }
   ],
   "source": [
    "board_easy = [\n",
    "    [-1, -1,  3, -1, -1,  7,  1,  9, -1],       \n",
    "    [ 1,  9,  6, -1, -1, -1,  3,  7, -1],\n",
    "    [ 7,  4, -1, -1, -1, -1, -1,  5,  6],\n",
    "    [ 4, -1, -1,  6,  9,  8, -1, -1, -1],\n",
    "    [-1, -1, -1,  1, -1,  3, -1, -1, -1],\n",
    "    [-1, -1, -1,  2,  4,  5, -1, -1,  7],\n",
    "    [ 6,  2, -1, -1, -1, -1, -1,  3,  5],\n",
    "    [-1,  5,  9, -1, -1, -1,  7,  6,  1],\n",
    "    [-1,  1,  4,  7, -1, -1,  9, -1, -1]\n",
    "]\n",
    "board_easy_ans = [\n",
    "    [ 5, 8, 3, 4, 6, 7, 1, 9, 2], \n",
    "    [ 1, 9, 6, 5, 8, 2, 3, 7, 4],\n",
    "    [ 7, 4, 2, 9, 3, 1, 8, 5, 6],\n",
    "    [ 4, 7, 5, 6, 9, 8, 2, 1, 3],\n",
    "    [ 2, 6, 8, 1, 7, 3, 5, 4, 9],\n",
    "    [ 9, 3, 1, 2, 4, 5, 6, 8, 7],\n",
    "    [ 6, 2, 7, 8, 1, 9, 4, 3, 5],\n",
    "    [ 8, 5, 9, 3, 2, 4, 7, 6, 1],\n",
    "    [ 3, 1, 4, 7, 5, 6, 9, 2, 8]\n",
    "]"
   ]
  },
  {
   "cell_type": "code",
   "execution_count": 205,
   "metadata": {},
   "outputs": [
    {
     "name": "stdout",
     "output_type": "stream",
     "text": [
      "     3 |     7 | 1 9   \n",
      " 1 9 6 |       | 3 7   \n",
      " 7 4   |       |   5 6 \n",
      "-------+-------+-------\n",
      " 4     | 6 9 8 |       \n",
      "       | 1   3 |       \n",
      "       | 2 4 5 |     7 \n",
      "-------+-------+-------\n",
      " 6 2   |       |   3 5 \n",
      "   5 9 |       | 7 6 1 \n",
      "   1 4 | 7     | 9     \n"
     ]
    }
   ],
   "source": [
    "print_board(board_easy)"
   ]
  },
  {
   "cell_type": "code",
   "execution_count": 203,
   "metadata": {},
   "outputs": [
    {
     "name": "stdout",
     "output_type": "stream",
     "text": [
      " 5 8 3 | 4 6 7 | 1 9 2 \n",
      " 1 9 6 | 5 8 2 | 3 7 4 \n",
      " 7 4 2 | 9 3 1 | 8 5 6 \n",
      "-------+-------+-------\n",
      " 4 7 5 | 6 9 8 | 2 1 3 \n",
      " 2 6 8 | 1 7 3 | 5 4 9 \n",
      " 9 3 1 | 2 4 5 | 6 8 7 \n",
      "-------+-------+-------\n",
      " 6 2 7 | 8 1 9 | 4 3 5 \n",
      " 8 5 9 | 3 2 4 | 7 6 1 \n",
      " 3 1 4 | 7 5 6 | 9 2 8 \n"
     ]
    },
    {
     "data": {
      "text/plain": [
       "True"
      ]
     },
     "execution_count": 203,
     "metadata": {},
     "output_type": "execute_result"
    }
   ],
   "source": [
    "print_board(solve(board_easy, 0, 0))"
   ]
  },
  {
   "cell_type": "code",
   "execution_count": 206,
   "metadata": {},
   "outputs": [],
   "source": [
    "board_finished = [[5, 3, 6, 8, 2, 7, 9, 4, 1],\n",
    "                  [1, 7, 2, 9, 6, 4, 3, 5, 8],\n",
    "                  [8, 9, 4, 1, 5, 3, 2, 6, 7],\n",
    "                  [7, 1, 5, 3, 4, 9, 8, 2, 6],\n",
    "                  [6, 4, 3, 7, 8, 2, 1, 9, 5],\n",
    "                  [9, 2, 8, 5, 1, 6, 7, 3, 4],\n",
    "                  [4, 8, 1, 2, 9, 5, 6, 7, 3],\n",
    "                  [3, 6, 9, 4, 7, 1, 5, 8, 2],\n",
    "                  [2, 5, 7, 6, 3, 8, 4, 1, 9]]"
   ]
  },
  {
   "cell_type": "code",
   "execution_count": 207,
   "metadata": {},
   "outputs": [
    {
     "data": {
      "text/plain": [
       "[[5, 3, 6, 8, 2, 7, 9, 4, 1],\n",
       " [1, 7, 2, 9, 6, 4, 3, 5, 8],\n",
       " [8, 9, 4, 1, 5, 3, 2, 6, 7],\n",
       " [7, 1, 5, 3, 4, 9, 8, 2, 6],\n",
       " [6, 4, 3, 7, 8, 2, 1, 9, 5],\n",
       " [9, 2, 8, 5, 1, 6, 7, 3, 4],\n",
       " [4, 8, 1, 2, 9, 5, 6, 7, 3],\n",
       " [3, 6, 9, 4, 7, 1, 5, 8, 2],\n",
       " [2, 5, 7, 6, 3, 8, 4, 1, 9]]"
      ]
     },
     "execution_count": 207,
     "metadata": {},
     "output_type": "execute_result"
    }
   ],
   "source": [
    "solve(board_finished, 0, 0)"
   ]
  },
  {
   "cell_type": "code",
   "execution_count": 209,
   "metadata": {},
   "outputs": [
    {
     "data": {
      "text/plain": [
       "[[1, 4, 7, 2, 3, 8, 5, 6, 9],\n",
       " [2, 5, 8, 1, 6, 9, 3, 4, 7],\n",
       " [3, 6, 9, 4, 5, 7, 1, 2, 8],\n",
       " [4, 7, 1, 3, 8, 2, 6, 9, 5],\n",
       " [5, 8, 2, 6, 9, 1, 4, 7, 3],\n",
       " [6, 9, 3, 5, 7, 4, 2, 8, 1],\n",
       " [7, 1, 4, 8, 2, 3, 9, 5, 6],\n",
       " [8, 2, 5, 9, 1, 6, 7, 3, 4],\n",
       " [9, 3, 6, 7, 4, 5, 8, 1, 2]]"
      ]
     },
     "execution_count": 209,
     "metadata": {},
     "output_type": "execute_result"
    }
   ],
   "source": [
    "solve(board, 0, 0)"
   ]
  },
  {
   "cell_type": "code",
   "execution_count": 213,
   "metadata": {},
   "outputs": [],
   "source": [
    "board_difficult = [\n",
    "    [-1,  4,  5, -1, -1,  6, -1,  3, -1],\n",
    "    [-1, -1, -1, -1,  4,  9,  1,  2,  6],\n",
    "    [-1, -1, -1, -1, -1, -1, -1, -1, -1],\n",
    "    [-1,  1,  2, -1, -1, -1, -1, -1,  4],\n",
    "    [ 9, -1, -1, -1,  6,  2, -1, -1, -1],\n",
    "    [-1,  8,  7, -1, -1, -1, -1, -1,  9],\n",
    "    [-1, -1, -1, -1, -1, -1, -1, -1, -1],\n",
    "    [-1, -1, -1, -1,  9,  5,  6,  8,  7],\n",
    "    [-1,  7,  6, -1, -1,  3, -1,  9, -1]\n",
    "]\n",
    "\n",
    "board_difficult_ans = [\n",
    "    [1, 4, 5, 2, 7, 6, 9, 3, 8],\n",
    "    [7, 3, 8, 5, 4, 9, 1, 2, 6],\n",
    "    [2, 6, 9, 8, 3, 1, 4, 7, 5],\n",
    "    [3, 1, 2, 9, 5, 8, 7, 6, 4],\n",
    "    [9, 5, 4, 7, 6, 2, 8, 1, 3],\n",
    "    [6, 8, 7, 3, 1, 4, 2, 5, 9],\n",
    "    [5, 9, 1, 6, 8, 7, 3, 4, 2],\n",
    "    [4, 2, 3, 1, 9, 5, 6, 8, 7],\n",
    "    [8, 7, 6, 4, 2, 3, 5, 9, 1]\n",
    "]"
   ]
  },
  {
   "cell_type": "code",
   "execution_count": 214,
   "metadata": {},
   "outputs": [
    {
     "data": {
      "text/plain": [
       "[[1, 4, 5, 2, 7, 6, 9, 3, 8],\n",
       " [7, 3, 8, 5, 4, 9, 1, 2, 6],\n",
       " [2, 6, 9, 8, 3, 1, 4, 7, 5],\n",
       " [3, 1, 2, 9, 5, 8, 7, 6, 4],\n",
       " [9, 5, 4, 7, 6, 2, 8, 1, 3],\n",
       " [6, 8, 7, 3, 1, 4, 2, 5, 9],\n",
       " [5, 9, 1, 6, 8, 7, 3, 4, 2],\n",
       " [4, 2, 3, 1, 9, 5, 6, 8, 7],\n",
       " [8, 7, 6, 4, 2, 3, 5, 9, 1]]"
      ]
     },
     "execution_count": 214,
     "metadata": {},
     "output_type": "execute_result"
    }
   ],
   "source": [
    "solve(board_difficult, 0, 0)"
   ]
  },
  {
   "cell_type": "code",
   "execution_count": null,
   "metadata": {},
   "outputs": [],
   "source": []
  }
 ],
 "metadata": {
  "kernelspec": {
   "display_name": "Python 3",
   "language": "python",
   "name": "python3"
  },
  "language_info": {
   "codemirror_mode": {
    "name": "ipython",
    "version": 3
   },
   "file_extension": ".py",
   "mimetype": "text/x-python",
   "name": "python",
   "nbconvert_exporter": "python",
   "pygments_lexer": "ipython3",
   "version": "3.7.3"
  }
 },
 "nbformat": 4,
 "nbformat_minor": 2
}
