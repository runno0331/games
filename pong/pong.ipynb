{
 "cells": [
  {
   "cell_type": "code",
   "execution_count": 7,
   "metadata": {},
   "outputs": [],
   "source": []
  },
  {
   "cell_type": "code",
   "execution_count": 78,
   "metadata": {},
   "outputs": [
    {
     "ename": "SystemExit",
     "evalue": "",
     "output_type": "error",
     "traceback": [
      "An exception has occurred, use %tb to see the full traceback.\n",
      "\u001b[0;31mSystemExit\u001b[0m\n"
     ]
    }
   ],
   "source": [
    "import pygame\n",
    "from pygame.locals import *\n",
    "import sys\n",
    "import math\n",
    "import random\n",
    "\n",
    "def main():\n",
    "    (w, h) = (300, 200) # window size\n",
    "    (x, y) = (10, h//2) # racket center\n",
    "    (bx, by) = (w//2, h//2)\n",
    "    vx, vy = 8, 5\n",
    "    \n",
    "    pygame.init() # initialize pygame\n",
    "    pygame.display.set_mode((w, h)) # set screen\n",
    "    screen = pygame.display.get_surface()\n",
    "    \n",
    "    pygame.display.set_caption(\"pong\")\n",
    "    \n",
    "    pygame.mixer.init(frequency = 44100) # initial setting\n",
    "    pygame.mixer.music.load(\"./hit1.mp3\") # hit sound\n",
    "    \n",
    "    while (1):                            \n",
    "        pygame.display.update() # update display\n",
    "        pygame.time.wait(30) # interval of updating\n",
    "        screen.fill((0, 0, 0, 0)) # fill screen with black R:0 G:0 B:0\n",
    "        \n",
    "        # racket\n",
    "        pygame.draw.line(screen, (255, 255, 255), (x, y-20), (x, y+20), 10)\n",
    "        # ball\n",
    "        pygame.draw.line(screen, (255, 0, 0), (bx-3, by), (bx+3, by), 8)\n",
    "        \n",
    "        pressed_key = pygame.key.get_pressed()\n",
    "        # racket movement\n",
    "        if pressed_key[K_UP]:\n",
    "            y -= 10\n",
    "        if pressed_key[K_DOWN]:\n",
    "            y += 10\n",
    "        \n",
    "        # racket inside window\n",
    "        if y < 20:\n",
    "            y = 20\n",
    "        if y > h-20:\n",
    "            y = h-20\n",
    "            \n",
    "        # ball movement\n",
    "        bx += vx\n",
    "        by += vy\n",
    "        \n",
    "        # ball inside window\n",
    "        if (bx > w and vx > 0):\n",
    "            vx = -vx   \n",
    "        if (0 > by and vy < 0) or (by > h and vy > 0):\n",
    "            vy = -vy\n",
    "        \n",
    "        # racket hit\n",
    "        if (y-30 < by < y+30 and vx < 0 and 7 < bx < 15):\n",
    "            vx = -vx\n",
    "            pygame.mixer.music.play(1)\n",
    "        \n",
    "        # ball went outside\n",
    "        if bx < -50:\n",
    "            pygame.time.wait(1000)\n",
    "            bx, by = (w//2, h//2)\n",
    "            theta = 2*math.pi*random.random()\n",
    "            vx = int(math.cos(theta) * 7) + 2*math.cos(theta)/abs(math.cos(theta))\n",
    "            vy = int(math.sin(theta) * 7) + 2*math.sin(theta)/abs(math.sin(theta))\n",
    "        \n",
    "        for event in pygame.event.get():\n",
    "            # close button pushed\n",
    "            if event.type == QUIT:\n",
    "                pygame.quit()\n",
    "                sys.exit()\n",
    "            \n",
    "            # escape key pressed\n",
    "            if event.type == KEYDOWN:\n",
    "                if event.key == K_ESCAPE:\n",
    "                    pygame.quit()\n",
    "                    sys.exit()\n",
    "    \n",
    "    \n",
    "    \n",
    "if __name__ == '__main__':\n",
    "    main()"
   ]
  },
  {
   "cell_type": "markdown",
   "metadata": {},
   "source": [
    "衝突判定\n",
    "棒\n",
    "ボール\n"
   ]
  },
  {
   "cell_type": "code",
   "execution_count": 72,
   "metadata": {},
   "outputs": [],
   "source": [
    "import pygame.mixer\n",
    "import time\n",
    "\n",
    "def main():\n",
    "    pygame.mixer.init(frequency = 44100) # initial setting\n",
    "    pygame.mixer.music.load(\"./hit.mp3\")\n",
    "    pygame.mixer.music.play(1) # play music once\n",
    "    #time.sleep(1)\n",
    "    #pygame.mixer.music.stop()\n",
    "    \n",
    "if __name__ == '__main__':\n",
    "    main()"
   ]
  },
  {
   "cell_type": "code",
   "execution_count": null,
   "metadata": {},
   "outputs": [],
   "source": [
    "pygame.mixer.music.stop()"
   ]
  },
  {
   "cell_type": "code",
   "execution_count": 18,
   "metadata": {},
   "outputs": [
    {
     "ename": "NameError",
     "evalue": "name 'sqrt' is not defined",
     "output_type": "error",
     "traceback": [
      "\u001b[0;31m---------------------------------------------------------------------------\u001b[0m",
      "\u001b[0;31mNameError\u001b[0m                                 Traceback (most recent call last)",
      "\u001b[0;32m<ipython-input-18-66e338417901>\u001b[0m in \u001b[0;36m<module>\u001b[0;34m\u001b[0m\n\u001b[0;32m----> 1\u001b[0;31m \u001b[0msqrt\u001b[0m\u001b[0;34m(\u001b[0m\u001b[0;36m2\u001b[0m\u001b[0;34m)\u001b[0m\u001b[0;34m\u001b[0m\u001b[0;34m\u001b[0m\u001b[0m\n\u001b[0m",
      "\u001b[0;31mNameError\u001b[0m: name 'sqrt' is not defined"
     ]
    }
   ],
   "source": [
    "sqrt(2)"
   ]
  },
  {
   "cell_type": "code",
   "execution_count": 44,
   "metadata": {},
   "outputs": [
    {
     "data": {
      "text/plain": [
       "3.141592653589793"
      ]
     },
     "execution_count": 44,
     "metadata": {},
     "output_type": "execute_result"
    }
   ],
   "source": [
    "import random\n",
    "random.random()\n",
    "math.pi"
   ]
  },
  {
   "cell_type": "code",
   "execution_count": 47,
   "metadata": {},
   "outputs": [
    {
     "data": {
      "text/plain": [
       "-1"
      ]
     },
     "execution_count": 47,
     "metadata": {},
     "output_type": "execute_result"
    }
   ],
   "source": [
    "int(math.cos(math.pi))"
   ]
  },
  {
   "cell_type": "code",
   "execution_count": null,
   "metadata": {},
   "outputs": [],
   "source": []
  }
 ],
 "metadata": {
  "kernelspec": {
   "display_name": "Python 3",
   "language": "python",
   "name": "python3"
  },
  "language_info": {
   "codemirror_mode": {
    "name": "ipython",
    "version": 3
   },
   "file_extension": ".py",
   "mimetype": "text/x-python",
   "name": "python",
   "nbconvert_exporter": "python",
   "pygments_lexer": "ipython3",
   "version": "3.7.3"
  }
 },
 "nbformat": 4,
 "nbformat_minor": 2
}
