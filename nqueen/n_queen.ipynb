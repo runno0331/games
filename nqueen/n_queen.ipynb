{
 "cells": [
  {
   "cell_type": "code",
   "execution_count": null,
   "metadata": {},
   "outputs": [],
   "source": [
    "import copy"
   ]
  },
  {
   "cell_type": "code",
   "execution_count": 27,
   "metadata": {},
   "outputs": [],
   "source": [
    "def n_queen_solver(n, example=False):\n",
    "    place = [-1 for i in range(n)]\n",
    "    result = n_queen(n, place, 0, 0, example)\n",
    "    return result\n",
    "    \n",
    "def n_queen(n, place, iter_n, count, example):\n",
    "    if iter_n == n:\n",
    "        count += 1\n",
    "        # show examples of placement\n",
    "        if example:\n",
    "            print(place)\n",
    "    \n",
    "    else:\n",
    "        for i in range(n):\n",
    "            if queen_placeable(place, iter_n, i):\n",
    "                place[iter_n] = i\n",
    "                count = n_queen(n, place, iter_n+1, count, example)\n",
    "    \n",
    "    return count\n",
    "\n",
    "def queen_placeable(place, iter_n, col):\n",
    "    for i in range(iter_n):\n",
    "        # queen already placed in same column\n",
    "        if col == place[i]:\n",
    "            return False\n",
    "        \n",
    "        # queen already placed in diagonal direction\n",
    "        if col + (iter_n - i) == place[i] or col - (iter_n - i) == place[i]:\n",
    "            return False\n",
    "        \n",
    "    return True"
   ]
  },
  {
   "cell_type": "code",
   "execution_count": 29,
   "metadata": {},
   "outputs": [
    {
     "name": "stdout",
     "output_type": "stream",
     "text": [
      "Number of solution for 1-queen: 1\n",
      "Number of solution for 2-queen: 0\n",
      "Number of solution for 3-queen: 0\n",
      "Number of solution for 4-queen: 2\n",
      "Number of solution for 5-queen: 10\n",
      "Number of solution for 6-queen: 4\n",
      "Number of solution for 7-queen: 40\n",
      "Number of solution for 8-queen: 92\n",
      "Number of solution for 9-queen: 352\n",
      "Number of solution for 10-queen: 724\n"
     ]
    }
   ],
   "source": [
    "for i in range(1, 11):\n",
    "    print(\"Number of solution for {}-queen: {}\".format(i, n_queen_solver(i)))"
   ]
  },
  {
   "cell_type": "markdown",
   "metadata": {},
   "source": [
    "## 拡張版"
   ]
  },
  {
   "cell_type": "code",
   "execution_count": 125,
   "metadata": {},
   "outputs": [],
   "source": [
    "import copy\n",
    "\n",
    "def n_qr_solver(n, piece_type, example=False):\n",
    "    place = [-1 for i in range(n)]\n",
    "    result = n_qr(n, place, 0, 0, piece_type, example)\n",
    "    return result\n",
    "    \n",
    "def n_qr(n, place, iter_n, count, piece_type, example):\n",
    "    if iter_n == n:\n",
    "        count += 1\n",
    "        # show examples of placement\n",
    "        if example:\n",
    "            print(place)\n",
    "    \n",
    "    else:\n",
    "        for i in range(n):\n",
    "            if qr_placeable(place, iter_n, i, piece_type):\n",
    "                place[iter_n] = i\n",
    "                count = n_qr(n, place, iter_n+1, count, piece_type, example)\n",
    "    \n",
    "    return count\n",
    "\n",
    "def qr_placeable(place, iter_n, col, piece_type):\n",
    "    for i in range(iter_n):\n",
    "        # queen or rook already placed in same column\n",
    "        if col == place[i]:\n",
    "            return False\n",
    "        \n",
    "        if piece_type == \"queen\":\n",
    "            # queen already placed in diagonal direction\n",
    "            if col + (iter_n - i) == place[i] or col - (iter_n - i) == place[i]:\n",
    "                return False\n",
    "        \n",
    "    return True\n",
    "\n",
    "def bishop_placeable(n, board, row, col):\n",
    "    # find bishops in diagonal direction\n",
    "    for i in range(max(-row, -col), min(row+1, n-col)):\n",
    "        if i == 0:\n",
    "            continue\n",
    "        else:\n",
    "            if board[row-abs(i)][col+i] == 1:\n",
    "                return False\n",
    "    return True\n",
    "\n",
    "def king_placeable(n, board, row, col):\n",
    "    direction = [[-1, -1], [-1, 0], [-1, 1], [0, -1]]\n",
    "    \n",
    "    # find king\n",
    "    for d_row, d_col in direction:\n",
    "        row_t = row + d_row\n",
    "        col_t = col + d_col\n",
    "        if 0 <= row_t < n and 0 <= col_t < n and board[row_t][col_t] == 1:\n",
    "            return False\n",
    "    return True\n",
    "\n",
    "def knight_placeable(n, board, row, col):\n",
    "    direction = [[-1, -2], [-2, -1], [-2, 1], [-1, 2]]\n",
    "    \n",
    "    # find knight\n",
    "    for d_row, d_col in direction:\n",
    "        row_t = row + d_row\n",
    "        col_t = col + d_col\n",
    "        if 0 <= row_t < n and 0 <= col_t < n and board[row_t][col_t] == 1:\n",
    "            return False\n",
    "    return True\n",
    "    \n",
    "def n_bkk(n, board, row, col, count, piece_count, max_piece, judger, example_list):\n",
    "    # number of placeable pieces is lower than maximum\n",
    "    if piece_count + (n*n - row*n + col) < max_piece:\n",
    "        pass\n",
    "    \n",
    "    elif row == n:\n",
    "        # found placement with more pieces\n",
    "        if piece_count > max_piece:\n",
    "            max_piece = piece_count\n",
    "            count = 1\n",
    "            example_list.clear()\n",
    "            \n",
    "        else:\n",
    "            count += 1\n",
    "        \n",
    "        board_copy = copy.deepcopy(board)\n",
    "        example_list.append(board_copy)\n",
    "            \n",
    "    else:\n",
    "        if judger(n, board, row, col):\n",
    "            board[row][col] = 1\n",
    "            \n",
    "            if col == n-1:\n",
    "                count, max_piece = n_bkk(n, board, row+1, 0, count, piece_count+1, max_piece, judger, example_list)\n",
    "            else:\n",
    "                count, max_piece = n_bkk(n, board, row, col+1, count, piece_count+1, max_piece, judger, example_list)\n",
    "                \n",
    "        board[row][col] = 0\n",
    "\n",
    "        if col == n-1:\n",
    "            count, max_piece = n_bkk(n, board, row+1, 0, count, piece_count, max_piece, judger, example_list)\n",
    "        else:\n",
    "            count, max_piece = n_bkk(n, board, row, col+1, count, piece_count, max_piece, judger, example_list)\n",
    "        \n",
    "    return count, max_piece\n",
    "    \n",
    "def n_bkk_solver(n, piece_type, example):\n",
    "    judgers = {'bishop': bishop_placeable, 'king': king_placeable, 'knight': knight_placeable}\n",
    "    board = [[0 for i in range(n)] for j in range(n)]\n",
    "    example_list = []\n",
    "    judger = judgers[piece_type]\n",
    "    \n",
    "    result, max_piece = n_bkk(n, board, 0, 0, 0, 0, 0, judger, example_list)\n",
    "    \n",
    "    if example:\n",
    "        print(\"max piece number: {}\".format(max_piece))\n",
    "        for ex in example_list:\n",
    "            print(ex)\n",
    "    return result\n",
    "    \n",
    "\n",
    "def n_chess(n, piece_type, example=False):\n",
    "    if piece_type == \"queen\" or piece_type == \"rook\":\n",
    "        print(n_qr_solver(n, piece_type, example))\n",
    "    \n",
    "    elif piece_type == \"bishop\" or piece_type == \"king\" or piece_type == \"knight\":\n",
    "        print(n_bkk_solver(n, piece_type, example))\n",
    "        \n",
    "    else:\n",
    "        print('Invalid piece type')"
   ]
  },
  {
   "cell_type": "code",
   "execution_count": 131,
   "metadata": {},
   "outputs": [
    {
     "name": "stdout",
     "output_type": "stream",
     "text": [
      "max piece number: 18\n",
      "[[1, 0, 1, 0, 1, 0], [0, 1, 0, 1, 0, 1], [1, 0, 1, 0, 1, 0], [0, 1, 0, 1, 0, 1], [1, 0, 1, 0, 1, 0], [0, 1, 0, 1, 0, 1]]\n",
      "[[0, 1, 0, 1, 0, 1], [1, 0, 1, 0, 1, 0], [0, 1, 0, 1, 0, 1], [1, 0, 1, 0, 1, 0], [0, 1, 0, 1, 0, 1], [1, 0, 1, 0, 1, 0]]\n",
      "2\n"
     ]
    }
   ],
   "source": [
    "n_chess(6, 'knight', True)"
   ]
  },
  {
   "cell_type": "code",
   "execution_count": 60,
   "metadata": {},
   "outputs": [
    {
     "data": {
      "text/plain": [
       "[[0, 0, 0, 0, 0, 0, 0, 0, 0, 1],\n",
       " [1, 0, 0, 0, 0, 0, 0, 0, 1, 0],\n",
       " [0, 1, 0, 0, 0, 0, 0, 1, 0, 0],\n",
       " [0, 0, 1, 0, 0, 0, 1, 0, 0, 0],\n",
       " [0, 0, 0, 1, 0, 1, 0, 0, 0, 0],\n",
       " [0, 0, 0, 0, 1, 0, 0, 0, 0, 0],\n",
       " [0, 0, 0, 0, 0, 0, 0, 0, 0, 0],\n",
       " [0, 0, 0, 0, 0, 0, 0, 0, 0, 0],\n",
       " [0, 0, 0, 0, 0, 0, 0, 0, 0, 0],\n",
       " [0, 0, 0, 0, 0, 0, 0, 0, 0, 0]]"
      ]
     },
     "execution_count": 60,
     "metadata": {},
     "output_type": "execute_result"
    }
   ],
   "source": [
    "row = 5\n",
    "col = 4\n",
    "board = [[0 for i in range(10)] for i in range(10)]\n",
    "for i in range(max(-row, -col), min(row+1, 10-col)):\n",
    "    board[row-abs(i)][col+i] = 1\n",
    "    \n",
    "board"
   ]
  },
  {
   "cell_type": "code",
   "execution_count": 6,
   "metadata": {},
   "outputs": [
    {
     "name": "stdout",
     "output_type": "stream",
     "text": [
      "1\n",
      "3\n"
     ]
    }
   ],
   "source": [
    "a = [[1,2], [3,4]]\n",
    "for x,y in a:\n",
    "    print(x)"
   ]
  },
  {
   "cell_type": "code",
   "execution_count": 115,
   "metadata": {},
   "outputs": [
    {
     "name": "stdout",
     "output_type": "stream",
     "text": [
      "[5, 6, 7, 8, 9]\n"
     ]
    }
   ],
   "source": [
    "x = []\n",
    "def test(a):\n",
    "    for i in range(10):\n",
    "        if i == 4:\n",
    "            a.clear()\n",
    "        else:\n",
    "            a.append(i)\n",
    "test(x)\n",
    "print(x)"
   ]
  },
  {
   "cell_type": "code",
   "execution_count": null,
   "metadata": {},
   "outputs": [],
   "source": []
  }
 ],
 "metadata": {
  "kernelspec": {
   "display_name": "Python 3",
   "language": "python",
   "name": "python3"
  },
  "language_info": {
   "codemirror_mode": {
    "name": "ipython",
    "version": 3
   },
   "file_extension": ".py",
   "mimetype": "text/x-python",
   "name": "python",
   "nbconvert_exporter": "python",
   "pygments_lexer": "ipython3",
   "version": "3.7.3"
  }
 },
 "nbformat": 4,
 "nbformat_minor": 2
}
